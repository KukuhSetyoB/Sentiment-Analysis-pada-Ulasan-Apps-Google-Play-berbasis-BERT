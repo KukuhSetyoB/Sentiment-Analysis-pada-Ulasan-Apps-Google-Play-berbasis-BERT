{
  "nbformat": 4,
  "nbformat_minor": 0,
  "metadata": {
    "colab": {
      "name": "preprocessing.ipynb",
      "provenance": [],
      "collapsed_sections": []
    },
    "kernelspec": {
      "name": "python3",
      "display_name": "Python 3"
    },
    "language_info": {
      "name": "python"
    }
  },
  "cells": [
    {
      "cell_type": "markdown",
      "metadata": {
        "id": "-gaFCoi8NWr5"
      },
      "source": [
        "PREPROCESSING\n"
      ]
    },
    {
      "cell_type": "code",
      "metadata": {
        "id": "ea18HQ1hMqSt"
      },
      "source": [
        "import numpy\n",
        "import pandas as pd\n",
        "import string\n",
        "import re\n",
        "import nltk\n",
        "\n",
        "from nltk.corpus import stopwords\n",
        "from nltk.tokenize import word_tokenize"
      ],
      "execution_count": null,
      "outputs": []
    },
    {
      "cell_type": "code",
      "metadata": {
        "colab": {
          "base_uri": "https://localhost:8080/",
          "height": 419
        },
        "id": "nQZHmhnRNCXe",
        "outputId": "bce857a8-2dfb-498e-dd98-3324eb5cc173"
      },
      "source": [
        "# Load Dataset\n",
        "data = pd.read_csv(\"sample.csv\", encoding= 'unicode_escape')\n",
        "review = data['text']\n",
        "\n",
        "data\n"
      ],
      "execution_count": null,
      "outputs": [
        {
          "output_type": "execute_result",
          "data": {
            "text/html": [
              "<div>\n",
              "<style scoped>\n",
              "    .dataframe tbody tr th:only-of-type {\n",
              "        vertical-align: middle;\n",
              "    }\n",
              "\n",
              "    .dataframe tbody tr th {\n",
              "        vertical-align: top;\n",
              "    }\n",
              "\n",
              "    .dataframe thead th {\n",
              "        text-align: right;\n",
              "    }\n",
              "</style>\n",
              "<table border=\"1\" class=\"dataframe\">\n",
              "  <thead>\n",
              "    <tr style=\"text-align: right;\">\n",
              "      <th></th>\n",
              "      <th>text</th>\n",
              "      <th>sentiment</th>\n",
              "    </tr>\n",
              "  </thead>\n",
              "  <tbody>\n",
              "    <tr>\n",
              "      <th>0</th>\n",
              "      <td>sangat memuaskan service nya hanya kedepan nya...</td>\n",
              "      <td>negative</td>\n",
              "    </tr>\n",
              "    <tr>\n",
              "      <th>1</th>\n",
              "      <td>saya pesan tiket hotel via traveloka mudah beg...</td>\n",
              "      <td>positive</td>\n",
              "    </tr>\n",
              "    <tr>\n",
              "      <th>2</th>\n",
              "      <td>bagus tetap menjadi pilihan pertamapesan tiket...</td>\n",
              "      <td>negative</td>\n",
              "    </tr>\n",
              "    <tr>\n",
              "      <th>3</th>\n",
              "      <td>buat saya aplikasi ticketing terbaik di indone...</td>\n",
              "      <td>positive</td>\n",
              "    </tr>\n",
              "    <tr>\n",
              "      <th>4</th>\n",
              "      <td>aplikasi nya mudah digunakan dari segi fitur s...</td>\n",
              "      <td>positive</td>\n",
              "    </tr>\n",
              "    <tr>\n",
              "      <th>...</th>\n",
              "      <td>...</td>\n",
              "      <td>...</td>\n",
              "    </tr>\n",
              "    <tr>\n",
              "      <th>3958</th>\n",
              "      <td>maaf ini sampai sekarang belum ada respon sald...</td>\n",
              "      <td>negative</td>\n",
              "    </tr>\n",
              "    <tr>\n",
              "      <th>3959</th>\n",
              "      <td>ganti no karna no kita sudah mati susah nya mi...</td>\n",
              "      <td>negative</td>\n",
              "    </tr>\n",
              "    <tr>\n",
              "      <th>3960</th>\n",
              "      <td>pelayanan cs kurang memuaskan</td>\n",
              "      <td>neutral</td>\n",
              "    </tr>\n",
              "    <tr>\n",
              "      <th>3961</th>\n",
              "      <td>lupa pin kok tdk ada cs ny</td>\n",
              "      <td>neutral</td>\n",
              "    </tr>\n",
              "    <tr>\n",
              "      <th>3962</th>\n",
              "      <td>ndak bisa di buat full service sudah berusaha ...</td>\n",
              "      <td>negative</td>\n",
              "    </tr>\n",
              "  </tbody>\n",
              "</table>\n",
              "<p>3963 rows × 2 columns</p>\n",
              "</div>"
            ],
            "text/plain": [
              "                                                   text sentiment\n",
              "0     sangat memuaskan service nya hanya kedepan nya...  negative\n",
              "1     saya pesan tiket hotel via traveloka mudah beg...  positive\n",
              "2     bagus tetap menjadi pilihan pertamapesan tiket...  negative\n",
              "3     buat saya aplikasi ticketing terbaik di indone...  positive\n",
              "4     aplikasi nya mudah digunakan dari segi fitur s...  positive\n",
              "...                                                 ...       ...\n",
              "3958  maaf ini sampai sekarang belum ada respon sald...  negative\n",
              "3959  ganti no karna no kita sudah mati susah nya mi...  negative\n",
              "3960                      pelayanan cs kurang memuaskan   neutral\n",
              "3961                         lupa pin kok tdk ada cs ny   neutral\n",
              "3962  ndak bisa di buat full service sudah berusaha ...  negative\n",
              "\n",
              "[3963 rows x 2 columns]"
            ]
          },
          "metadata": {
            "tags": []
          },
          "execution_count": 2
        }
      ]
    },
    {
      "cell_type": "markdown",
      "metadata": {
        "id": "c81d0xf5NmrL"
      },
      "source": [
        "DATA CLEANING"
      ]
    },
    {
      "cell_type": "code",
      "metadata": {
        "id": "t8ocGJpONo2J"
      },
      "source": [
        "# Data Cleaning\n",
        "\n",
        "def removePunctuation(x):\n",
        "    # removing number\n",
        "    x = re.sub(r\"\\d+\", \"\", x)\n",
        "    # removing non ASCII character\n",
        "    x = re.sub(r\"[^\\x00-\\x7f]+\", \" \", x)\n",
        "    x = x.replace(\".\", \" \")\n",
        "    x = x.replace(\"-\", \" \")\n",
        "    x = x.replace(\"/\", \" \")\n",
        "    # removing punctuation\n",
        "    return x.translate(str.maketrans(\" \", \" \", string.punctuation))\n",
        "\n",
        "review = review.apply(removePunctuation)\n",
        "\n",
        "# removing whitespace\n",
        "def removeWhitespace_LT(x):\n",
        "    return x.strip()\n",
        "\n",
        "review = review.apply(removeWhitespace_LT)\n",
        "\n",
        "# removing multiple whitespace\n",
        "def removeWhitespace_multiple(x):\n",
        "    return re.sub(\"\\s+\", \" \", x)\n",
        "\n",
        "review = review.apply(removeWhitespace_multiple)\n",
        "\n",
        "print('Data Cleaning Result : \\n')\n",
        "print(review.head(5))"
      ],
      "execution_count": null,
      "outputs": []
    },
    {
      "cell_type": "code",
      "metadata": {
        "id": "UeQepFDDN1gh"
      },
      "source": [
        "# Case Folding\n",
        "review = review.str.lower()\n",
        "\n",
        "print('Case Folding Result : \\n')\n",
        "print(review.head(5))"
      ],
      "execution_count": null,
      "outputs": []
    },
    {
      "cell_type": "code",
      "metadata": {
        "id": "f-2AnlRwC1ZV",
        "colab": {
          "base_uri": "https://localhost:8080/"
        },
        "outputId": "6a41a693-bc62-47f2-a243-17806857a778"
      },
      "source": [
        "# Stopword Removal \n",
        "# get stopword from NLTK stopword\n",
        "# get stopword Indonesia\n",
        "nltk.download('stopwords')\n",
        "nltk.download('punkt')\n",
        "stop_words = set(stopwords.words('indonesian'))\n",
        "\n",
        "def stopword_removal(x):\n",
        "    tokens = word_tokenize(x)\n",
        "    tokens = [w for w in tokens if not w in stop_words]\n",
        "    tokens = ' '.join(tokens)\n",
        "    return tokens\n",
        "\n",
        "review = review.apply(stopword_removal)\n",
        "\n",
        "print('Stopword Removal Result : \\n')\n",
        "print(review.head())"
      ],
      "execution_count": null,
      "outputs": [
        {
          "output_type": "stream",
          "text": [
            "[nltk_data] Downloading package stopwords to /root/nltk_data...\n",
            "[nltk_data]   Unzipping corpora/stopwords.zip.\n",
            "[nltk_data] Downloading package punkt to /root/nltk_data...\n",
            "[nltk_data]   Unzipping tokenizers/punkt.zip.\n",
            "Stopword Removal Result : \n",
            "\n",
            "0    memuaskan service nya kedepan nyaharus cermat ...\n",
            "1    pesan tiket hotel via traveloka mudah refund b...\n",
            "2    bagus pilihan pertamapesan tiket batalin maska...\n",
            "3    aplikasi ticketing terbaik indonesia traveloka...\n",
            "4    aplikasi nya mudah segi fitur pemesanan pembay...\n",
            "Name: text, dtype: object\n"
          ],
          "name": "stdout"
        }
      ]
    },
    {
      "cell_type": "code",
      "metadata": {
        "id": "w9-v216gN_hr"
      },
      "source": [
        "review.to_csv('preprocessing.csv', index=False)"
      ],
      "execution_count": null,
      "outputs": []
    },
    {
      "cell_type": "markdown",
      "metadata": {
        "id": "VTOedVqwONC1"
      },
      "source": [
        "SPLIT DATASET SETELAH DATA PREPROCESSING DILAKUKAN LABELLING\n"
      ]
    },
    {
      "cell_type": "code",
      "metadata": {
        "id": "8_1DfFx6OTN7"
      },
      "source": [
        "# Train Test valid Split dengan rasio 60% train, 20% test dan 20% valid\n",
        "# Load dataset\n",
        "import numpy\n",
        "import pandas as pd\n",
        "from numpy.random import RandomState\n",
        "\n",
        "df = pd.read_csv(\"sample.csv\", encoding= 'unicode_escape')\n",
        "rng = RandomState()\n",
        "\n",
        "train = df.sample(frac=0.8, random_state=rng)\n",
        "test = df.loc[~df.index.isin(train.index)]\n",
        "\n",
        "train, test, valid = numpy.split(df.sample(frac=1, random_state=rng), [int(.6*len(df)), int(.8*len(df))])"
      ],
      "execution_count": null,
      "outputs": []
    },
    {
      "cell_type": "code",
      "metadata": {
        "id": "SEsMVl7VSF-X",
        "colab": {
          "base_uri": "https://localhost:8080/"
        },
        "outputId": "ef6f338a-eb49-4b42-b715-06a524ed98df"
      },
      "source": [
        "print(train.head(10))"
      ],
      "execution_count": null,
      "outputs": [
        {
          "output_type": "stream",
          "text": [
            "                                                   text sentiment\n",
            "2198  aplikasi linkaja bagus memudahkan bertransaksi...  positive\n",
            "3144  adlh pengguna linkaja mengalami akun terblokir...  negative\n",
            "2904  lengkap banget pake aplikasi dompet digital pi...  positive\n",
            "3804               gagal upgret coba pakai ribetttttttt  negative\n",
            "2870  linkaja mantap banget e wallet pembayaran kese...  positive\n",
            "2352  linkaja aplikasi bagus bermanfaat memudahkan m...  positive\n",
            "80    mudah cepat hemat booking beli ticket liburan ...  positive\n",
            "787   makasih aplikasinya bagus nama asli nomor asin...  positive\n",
            "58    terbantu traveloka mudah informasi disediakan ...  positive\n",
            "2925  aplikasi mempermudah transaksi elektronik sala...  positive\n"
          ],
          "name": "stdout"
        }
      ]
    },
    {
      "cell_type": "code",
      "metadata": {
        "id": "iMBd4-e_SL2u",
        "colab": {
          "base_uri": "https://localhost:8080/"
        },
        "outputId": "aa884f5d-cf48-481a-df84-914708d4289a"
      },
      "source": [
        "print(test.head(10))"
      ],
      "execution_count": null,
      "outputs": [
        {
          "output_type": "stream",
          "text": [
            "                                                   text sentiment\n",
            "3304  apk taik pulihkan akun aja susah nya udah kaya...  negative\n",
            "3565           insentif prakerja link aja lemot e walet  negative\n",
            "3837                             eror ya ga login hadeh   neutral\n",
            "366                     cepat pelayanannya informasinya  positive\n",
            "309   aplikasi penunjang kegiatan perjalanan recomended  positive\n",
            "1092  gua kasih bintang top banget membingungkan hat...  positive\n",
            "3807                   parah sulit login input kode otp  negative\n",
            "3208  kesini jelek ngisi saldo atm nggak gagal konek...  negative\n",
            "2331  aplikasi membantu era modern transaksi simple ...  positive\n",
            "2899  terima kasih linkaja gak ribet ribet kalo baya...  positive\n"
          ],
          "name": "stdout"
        }
      ]
    },
    {
      "cell_type": "code",
      "metadata": {
        "id": "kcd-uyiXSNqm",
        "colab": {
          "base_uri": "https://localhost:8080/"
        },
        "outputId": "061f9ad6-74f2-4892-9f53-9d722ff1f367"
      },
      "source": [
        "print(valid.head(10))"
      ],
      "execution_count": null,
      "outputs": [
        {
          "output_type": "stream",
          "text": [
            "                                                   text sentiment\n",
            "2305  aplikasi bagus temui kenyamanan kenyamanan man...  positive\n",
            "1262        bagus bangat aplikasinya makasih cetcontact  positive\n",
            "1260                              sejjauh sih msh bagus  positive\n",
            "2105  aplikasi nya bagus sekalii recommended bangett...  positive\n",
            "3111  niat promo bagus promo bikin malu gabungan per...  positive\n",
            "2868  wow keren sih aplikasi nya berguna banget fitu...  positive\n",
            "1727  apk ngk sesuai dgn iklankan apk anjinggggggggg...  negative\n",
            "1578  yg lihat nama kontak taunya gak penipuan gw ha...   neutral\n",
            "3874                               top up free fire tdk  positive\n",
            "2656  aplikasi bagus si rekomendasi banget zaman ser...  positive\n"
          ],
          "name": "stdout"
        }
      ]
    },
    {
      "cell_type": "code",
      "metadata": {
        "id": "NeXwpHkzSgee"
      },
      "source": [
        "train.to_csv('train.csv', index=False)\n",
        "test.to_csv('test.csv', index=False)\n",
        "valid.to_csv('valid.csv', index=False)"
      ],
      "execution_count": null,
      "outputs": []
    },
    {
      "cell_type": "code",
      "metadata": {
        "colab": {
          "base_uri": "https://localhost:8080/",
          "height": 419
        },
        "id": "C6j2-LRfSoFE",
        "outputId": "27ed8f55-abab-4d07-94b0-f6edef029a4a"
      },
      "source": [
        "data = pd.read_csv(\"train.csv\")\n",
        "data"
      ],
      "execution_count": null,
      "outputs": [
        {
          "output_type": "execute_result",
          "data": {
            "text/html": [
              "<div>\n",
              "<style scoped>\n",
              "    .dataframe tbody tr th:only-of-type {\n",
              "        vertical-align: middle;\n",
              "    }\n",
              "\n",
              "    .dataframe tbody tr th {\n",
              "        vertical-align: top;\n",
              "    }\n",
              "\n",
              "    .dataframe thead th {\n",
              "        text-align: right;\n",
              "    }\n",
              "</style>\n",
              "<table border=\"1\" class=\"dataframe\">\n",
              "  <thead>\n",
              "    <tr style=\"text-align: right;\">\n",
              "      <th></th>\n",
              "      <th>text</th>\n",
              "      <th>sentiment</th>\n",
              "    </tr>\n",
              "  </thead>\n",
              "  <tbody>\n",
              "    <tr>\n",
              "      <th>0</th>\n",
              "      <td>saya upgrade full service kog gagal terus ya j...</td>\n",
              "      <td>negative</td>\n",
              "    </tr>\n",
              "    <tr>\n",
              "      <th>1</th>\n",
              "      <td>mau log in saja susah padahal tidak seribet in...</td>\n",
              "      <td>negative</td>\n",
              "    </tr>\n",
              "    <tr>\n",
              "      <th>2</th>\n",
              "      <td>habis kirim saldo ke link aja tapi tidak masuk...</td>\n",
              "      <td>negative</td>\n",
              "    </tr>\n",
              "    <tr>\n",
              "      <th>3</th>\n",
              "      <td>terima kasih apk nya sangat membantu sekali</td>\n",
              "      <td>positive</td>\n",
              "    </tr>\n",
              "    <tr>\n",
              "      <th>4</th>\n",
              "      <td>ini gimana kok gak bisa masuk ke aplikasi nya ...</td>\n",
              "      <td>neutral</td>\n",
              "    </tr>\n",
              "    <tr>\n",
              "      <th>...</th>\n",
              "      <td>...</td>\n",
              "      <td>...</td>\n",
              "    </tr>\n",
              "    <tr>\n",
              "      <th>1976</th>\n",
              "      <td>susah bgt buat login aja selalu gagal verifika...</td>\n",
              "      <td>negative</td>\n",
              "    </tr>\n",
              "    <tr>\n",
              "      <th>1977</th>\n",
              "      <td>susah g bisa login pake wa ceklis pake google ...</td>\n",
              "      <td>negative</td>\n",
              "    </tr>\n",
              "    <tr>\n",
              "      <th>1978</th>\n",
              "      <td>aplikasinya mudah dan lengkap mudahan makin ba...</td>\n",
              "      <td>positive</td>\n",
              "    </tr>\n",
              "    <tr>\n",
              "      <th>1979</th>\n",
              "      <td>aplikasi ini sangat bagus</td>\n",
              "      <td>positive</td>\n",
              "    </tr>\n",
              "    <tr>\n",
              "      <th>1980</th>\n",
              "      <td>sangat bagus deh tdk pernah pindah kelain teta...</td>\n",
              "      <td>positive</td>\n",
              "    </tr>\n",
              "  </tbody>\n",
              "</table>\n",
              "<p>1981 rows × 2 columns</p>\n",
              "</div>"
            ],
            "text/plain": [
              "                                                   text sentiment\n",
              "0     saya upgrade full service kog gagal terus ya j...  negative\n",
              "1     mau log in saja susah padahal tidak seribet in...  negative\n",
              "2     habis kirim saldo ke link aja tapi tidak masuk...  negative\n",
              "3           terima kasih apk nya sangat membantu sekali  positive\n",
              "4     ini gimana kok gak bisa masuk ke aplikasi nya ...   neutral\n",
              "...                                                 ...       ...\n",
              "1976  susah bgt buat login aja selalu gagal verifika...  negative\n",
              "1977  susah g bisa login pake wa ceklis pake google ...  negative\n",
              "1978  aplikasinya mudah dan lengkap mudahan makin ba...  positive\n",
              "1979                          aplikasi ini sangat bagus  positive\n",
              "1980  sangat bagus deh tdk pernah pindah kelain teta...  positive\n",
              "\n",
              "[1981 rows x 2 columns]"
            ]
          },
          "metadata": {
            "tags": []
          },
          "execution_count": 13
        }
      ]
    }
  ]
}